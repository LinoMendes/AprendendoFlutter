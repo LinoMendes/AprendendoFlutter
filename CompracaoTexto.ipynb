{
  "nbformat": 4,
  "nbformat_minor": 0,
  "metadata": {
    "colab": {
      "provenance": [],
      "authorship_tag": "ABX9TyOCg18htcJNTwhta8j4f0ny",
      "include_colab_link": true
    },
    "kernelspec": {
      "name": "python3",
      "display_name": "Python 3"
    },
    "language_info": {
      "name": "python"
    }
  },
  "cells": [
    {
      "cell_type": "markdown",
      "metadata": {
        "id": "view-in-github",
        "colab_type": "text"
      },
      "source": [
        "<a href=\"https://colab.research.google.com/github/LinoMendes/AprendendoFlutter/blob/main/CompracaoTexto.ipynb\" target=\"_parent\"><img src=\"https://colab.research.google.com/assets/colab-badge.svg\" alt=\"Open In Colab\"/></a>"
      ]
    },
    {
      "cell_type": "markdown",
      "source": [
        "# Script para comparação entre dois textos"
      ],
      "metadata": {
        "id": "IvfpYNV78lR9"
      }
    },
    {
      "cell_type": "code",
      "execution_count": 1,
      "metadata": {
        "id": "7Tl8To9N7nXV"
      },
      "outputs": [],
      "source": [
        "#Importação\n",
        "import numpy as np\n",
        "import sklearn"
      ]
    },
    {
      "cell_type": "markdown",
      "source": [
        "## Inicio do processo de comparação\n",
        "\n",
        "\n",
        "*   Primeiro vamos selecionar o texto que vamos usar como base \"texto_base\" e o texto que é nosso objeto de comparação \"texto_a_ser_comparado\";\n",
        "*   Depois vamos fazer a \"toclização\" das palavras que compõe os textos.\n",
        "\n"
      ],
      "metadata": {
        "id": "HRhY0chn9ajz"
      }
    },
    {
      "cell_type": "code",
      "source": [
        "from sklearn.feature_extraction.text import CountVectorizer\n",
        "\n",
        "texto_a_ser_comparado = 'Suponha que esse seja o texto que desejo comparar'\n",
        "texto_base = 'Suponha que esse seja o texto principal'\n",
        "\n",
        "#Número de n_gramas\n",
        "n=1\n",
        "\n",
        "#Instância o contador de n_gramas\n",
        "counts = CountVectorizer(analyzer ='word', ngram_range=(n,n))\n",
        "\n",
        "#Criar uma matriz de contagem de n_grama para os dois textos\n",
        "n_grams = counts.fit_transform([texto_a_ser_comparado, texto_base])\n",
        "\n",
        "#Cria dicionário de n_gramas\n",
        "vocab2int = counts.fit([texto_a_ser_comparado, texto_base]).vocabulary_\n",
        "\n",
        "n_grams_array = n_grams.toarray()\n",
        "\n",
        "print('Vetor de n_gramas: \\n', n_grams_array)\n",
        "print('Dicionário de n-gramas: \\n', vocab2int)"
      ],
      "metadata": {
        "colab": {
          "base_uri": "https://localhost:8080/"
        },
        "id": "d0IFLTQ58ZKO",
        "outputId": "a808154a-6116-4aba-ef89-932ae33329e2"
      },
      "execution_count": 15,
      "outputs": [
        {
          "output_type": "stream",
          "name": "stdout",
          "text": [
            "Vetor de n_gramas: \n",
            " [[1 1 1 0 2 1 1 1]\n",
            " [0 0 1 1 1 1 1 1]]\n",
            "Dicionário de n-gramas: \n",
            " {'suponha': 6, 'que': 4, 'esse': 2, 'seja': 5, 'texto': 7, 'desejo': 1, 'comparar': 0, 'principal': 3}\n"
          ]
        }
      ]
    },
    {
      "cell_type": "markdown",
      "source": [
        "## Agora vamos utilizar o *containment* para comparar a similaridade entre os textos. Valendo-se entre a interseção entre eles."
      ],
      "metadata": {
        "id": "Rw6W-7fDDv1x"
      }
    },
    {
      "cell_type": "code",
      "source": [
        "# Vamos fazer determinar as interseções entre o texto de comparação e o texto base\n",
        "intersecao = np.amin(n_grams_array, axis=0)\n",
        "intersecao"
      ],
      "metadata": {
        "colab": {
          "base_uri": "https://localhost:8080/"
        },
        "id": "Fj68PWAI8ZOk",
        "outputId": "6a8f32a7-f309-4f2d-9db7-77398efd8266"
      },
      "execution_count": 16,
      "outputs": [
        {
          "output_type": "execute_result",
          "data": {
            "text/plain": [
              "array([0, 0, 1, 0, 1, 1, 1, 1])"
            ]
          },
          "metadata": {},
          "execution_count": 16
        }
      ]
    },
    {
      "cell_type": "code",
      "source": [
        "# Vamos somar o número de intersecções entre os textos\n",
        "intersecao_contagem = np.sum(intersecao)\n",
        "intersecao_contagem"
      ],
      "metadata": {
        "colab": {
          "base_uri": "https://localhost:8080/"
        },
        "id": "5a7t81Fs8ZSn",
        "outputId": "d0eb2c81-1724-4da2-abb5-632cbc8023af"
      },
      "execution_count": 17,
      "outputs": [
        {
          "output_type": "execute_result",
          "data": {
            "text/plain": [
              "5"
            ]
          },
          "metadata": {},
          "execution_count": 17
        }
      ]
    },
    {
      "cell_type": "code",
      "source": [
        "#Agora temso que normalizar os nossos dados\n",
        "index = 0\n",
        "diferenca = np.sum(n_grams_array[index])\n",
        "diferenca\n"
      ],
      "metadata": {
        "colab": {
          "base_uri": "https://localhost:8080/"
        },
        "id": "rgV3wLc58ZWQ",
        "outputId": "fda2f04c-120a-4d0d-fdae-4ef167251203"
      },
      "execution_count": 24,
      "outputs": [
        {
          "output_type": "execute_result",
          "data": {
            "text/plain": [
              "8"
            ]
          },
          "metadata": {},
          "execution_count": 24
        }
      ]
    },
    {
      "cell_type": "code",
      "source": [
        "valor_normalizado = intersecao_contagem/diferenca\n",
        "valor_normalizado"
      ],
      "metadata": {
        "colab": {
          "base_uri": "https://localhost:8080/"
        },
        "id": "bT9TVY9Y8ZZs",
        "outputId": "9bf0238e-3842-49b3-a840-3d912f28b3ce"
      },
      "execution_count": 25,
      "outputs": [
        {
          "output_type": "execute_result",
          "data": {
            "text/plain": [
              "0.625"
            ]
          },
          "metadata": {},
          "execution_count": 25
        }
      ]
    },
    {
      "cell_type": "code",
      "source": [
        "#tranformando em porcentagem\n",
        "compatibilidade = valor_normalizado*100\n",
        "print(f'A compatibilidade entre os dois textos é de: {compatibilidade}% ')"
      ],
      "metadata": {
        "colab": {
          "base_uri": "https://localhost:8080/"
        },
        "id": "TYgpjGap8Zcz",
        "outputId": "e5fcbe41-3d36-4fa0-f43f-300a52c168cf"
      },
      "execution_count": 27,
      "outputs": [
        {
          "output_type": "stream",
          "name": "stdout",
          "text": [
            "A compatibilidade entre os dois textos é de: 62.5% \n"
          ]
        }
      ]
    }
  ]
}